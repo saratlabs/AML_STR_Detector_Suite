{
 "cells": [
  {
   "cell_type": "markdown",
   "id": "067a4190-e630-4306-b7a2-2c8e0616a09a",
   "metadata": {},
   "source": [
    "## AML_STR_Detector_ML_V2 – Unsupervised Anomaly Detection using Isolation Forest\n",
    "\n",
    "**_A machine learning–driven financial crime detection system that simulates real-world transaction behavior and flags anomalous activities for STR generation using Isolation Forest_**"
   ]
  },
  {
   "cell_type": "markdown",
   "id": "c29e2512-b2e9-413a-adb1-2a51efd1dce6",
   "metadata": {},
   "source": [
    "## Step 1: Generate Synthetic Transaction Dataset\r\n",
    "\r\n",
    "We generate a synthetic dataset to simulate real-world customer transactions. This includes features like transaction amount, type, frequency, channel, and customer risk profile. This data will be used to train the Isolation Forest model to detect anomalous behavio.\r\n"
   ]
  },
  {
   "cell_type": "code",
   "execution_count": 2,
   "id": "e1b5b7eb-4daf-4355-9bf7-d3d8d689647c",
   "metadata": {},
   "outputs": [
    {
     "name": "stdout",
     "output_type": "stream",
     "text": [
      "Synthetic transaction dataset created and saved as 'synthetic_transactions.csv'\n"
     ]
    }
   ],
   "source": [
    "import pandas as pd\n",
    "import numpy as np\n",
    "import random\n",
    "\n",
    "# Set random seed for reproducibility\n",
    "np.random.seed(42)\n",
    "\n",
    "# Define parameters\n",
    "num_customers = 20\n",
    "num_transactions = 500\n",
    "\n",
    "# Sample feature pools\n",
    "transaction_types = ['NEFT', 'IMPS', 'RTGS', 'Crypto', 'SWIFT']\n",
    "locations = ['India', 'Germany', 'USA', 'UAE', 'Singapore', 'Nigeria']\n",
    "channels = ['Web', 'Mobile', 'ATM', 'POS']\n",
    "times = ['Morning', 'Afternoon', 'Night']\n",
    "risk_bands = ['Low', 'Medium', 'High']\n",
    "\n",
    "# Generate customer IDs\n",
    "customer_ids = [f'CUST{i:03d}' for i in range(1, num_customers + 1)]\n",
    "\n",
    "# Generate synthetic data\n",
    "transactions = []\n",
    "\n",
    "for i in range(num_transactions):\n",
    "    customer_id = random.choice(customer_ids)\n",
    "    transaction = {\n",
    "        'transaction_id': f'TXN{i:05d}',\n",
    "        'customer_id': customer_id,\n",
    "        'amount': round(np.random.exponential(scale=10000), 2),  # Skewed amount distribution\n",
    "        'transaction_type': random.choice(transaction_types),\n",
    "        'location_country': random.choice(locations),\n",
    "        'channel': random.choice(channels),\n",
    "        'time_of_day': random.choice(times),\n",
    "        'txn_frequency_30d': np.random.poisson(lam=15),\n",
    "        'account_age_days': np.random.randint(30, 2000),\n",
    "        'customer_risk_band': random.choices(risk_bands, weights=[0.6, 0.3, 0.1])[0]\n",
    "    }\n",
    "    transactions.append(transaction)\n",
    "\n",
    "# Convert to DataFrame\n",
    "df_txns = pd.DataFrame(transactions)\n",
    "\n",
    "# Save to CSV\n",
    "df_txns.to_csv(\"synthetic_transactions.csv\", index=False)\n",
    "\n",
    "print(\"Synthetic transaction dataset created and saved as 'synthetic_transactions.csv'\")"
   ]
  },
  {
   "cell_type": "markdown",
   "id": "7f8a3c8c-99ed-438c-ae6e-a40028cc9979",
   "metadata": {},
   "source": [
    "## Step 2: Preprocess and Encode Data\r\n",
    "\r\n",
    "To train the Isolation Forest model, we need to prepare the data:\r\n",
    "- Encode categorical variables (e.g., transaction_type, channel)\r\n",
    "- Scale numeric features if needed\r\n",
    "- Drop ID columns that don't add value for anomaly detetion\r\n"
   ]
  },
  {
   "cell_type": "code",
   "execution_count": 5,
   "id": "dde2408d-fa20-45eb-9947-2522a7413188",
   "metadata": {},
   "outputs": [
    {
     "name": "stdout",
     "output_type": "stream",
     "text": [
      "Data preprocessing complete. Encoded and ready for model training.\n"
     ]
    },
    {
     "data": {
      "text/html": [
       "<div>\n",
       "<style scoped>\n",
       "    .dataframe tbody tr th:only-of-type {\n",
       "        vertical-align: middle;\n",
       "    }\n",
       "\n",
       "    .dataframe tbody tr th {\n",
       "        vertical-align: top;\n",
       "    }\n",
       "\n",
       "    .dataframe thead th {\n",
       "        text-align: right;\n",
       "    }\n",
       "</style>\n",
       "<table border=\"1\" class=\"dataframe\">\n",
       "  <thead>\n",
       "    <tr style=\"text-align: right;\">\n",
       "      <th></th>\n",
       "      <th>amount</th>\n",
       "      <th>transaction_type</th>\n",
       "      <th>location_country</th>\n",
       "      <th>channel</th>\n",
       "      <th>time_of_day</th>\n",
       "      <th>txn_frequency_30d</th>\n",
       "      <th>account_age_days</th>\n",
       "      <th>customer_risk_band</th>\n",
       "    </tr>\n",
       "  </thead>\n",
       "  <tbody>\n",
       "    <tr>\n",
       "      <th>0</th>\n",
       "      <td>4692.68</td>\n",
       "      <td>0</td>\n",
       "      <td>0</td>\n",
       "      <td>0</td>\n",
       "      <td>1</td>\n",
       "      <td>16</td>\n",
       "      <td>496</td>\n",
       "      <td>1</td>\n",
       "    </tr>\n",
       "    <tr>\n",
       "      <th>1</th>\n",
       "      <td>1053.33</td>\n",
       "      <td>2</td>\n",
       "      <td>0</td>\n",
       "      <td>2</td>\n",
       "      <td>2</td>\n",
       "      <td>14</td>\n",
       "      <td>901</td>\n",
       "      <td>1</td>\n",
       "    </tr>\n",
       "    <tr>\n",
       "      <th>2</th>\n",
       "      <td>12312.50</td>\n",
       "      <td>1</td>\n",
       "      <td>5</td>\n",
       "      <td>3</td>\n",
       "      <td>1</td>\n",
       "      <td>19</td>\n",
       "      <td>1245</td>\n",
       "      <td>2</td>\n",
       "    </tr>\n",
       "    <tr>\n",
       "      <th>3</th>\n",
       "      <td>48551.15</td>\n",
       "      <td>4</td>\n",
       "      <td>1</td>\n",
       "      <td>1</td>\n",
       "      <td>1</td>\n",
       "      <td>16</td>\n",
       "      <td>282</td>\n",
       "      <td>2</td>\n",
       "    </tr>\n",
       "    <tr>\n",
       "      <th>4</th>\n",
       "      <td>5655.37</td>\n",
       "      <td>1</td>\n",
       "      <td>1</td>\n",
       "      <td>0</td>\n",
       "      <td>0</td>\n",
       "      <td>12</td>\n",
       "      <td>1735</td>\n",
       "      <td>1</td>\n",
       "    </tr>\n",
       "  </tbody>\n",
       "</table>\n",
       "</div>"
      ],
      "text/plain": [
       "     amount  transaction_type  location_country  channel  time_of_day  \\\n",
       "0   4692.68                 0                 0        0            1   \n",
       "1   1053.33                 2                 0        2            2   \n",
       "2  12312.50                 1                 5        3            1   \n",
       "3  48551.15                 4                 1        1            1   \n",
       "4   5655.37                 1                 1        0            0   \n",
       "\n",
       "   txn_frequency_30d  account_age_days  customer_risk_band  \n",
       "0                 16               496                   1  \n",
       "1                 14               901                   1  \n",
       "2                 19              1245                   2  \n",
       "3                 16               282                   2  \n",
       "4                 12              1735                   1  "
      ]
     },
     "execution_count": 5,
     "metadata": {},
     "output_type": "execute_result"
    }
   ],
   "source": [
    "from sklearn.preprocessing import LabelEncoder\n",
    "from sklearn.model_selection import train_test_split\n",
    "\n",
    "# Copy original data for processing\n",
    "df_processed = df_txns.copy()\n",
    "\n",
    "# Drop non-feature columns\n",
    "df_processed = df_processed.drop(['transaction_id', 'customer_id'], axis=1)\n",
    "\n",
    "# Encode categorical variables\n",
    "categorical_cols = ['transaction_type', 'location_country', 'channel', 'time_of_day', 'customer_risk_band']\n",
    "label_encoders = {}\n",
    "\n",
    "for col in categorical_cols:\n",
    "    le = LabelEncoder()\n",
    "    df_processed[col] = le.fit_transform(df_processed[col])\n",
    "    label_encoders[col] = le  # Store encoders for decoding later if needed\n",
    "\n",
    "print(\"Data preprocessing complete. Encoded and ready for model training.\")\n",
    "df_processed.head()"
   ]
  },
  {
   "cell_type": "markdown",
   "id": "6b9119d0-c216-47e5-9a81-1cf7c312bb01",
   "metadata": {},
   "source": [
    "## Step 3: Train Isolation Forest and Detect Anomalies\r\n",
    "\r\n",
    "The Isolation Forest algorithm is trained on the processed transaction data. It learns the normal patterns and flags outliers as anomalies (suspicious transactions.\r\n"
   ]
  },
  {
   "cell_type": "code",
   "execution_count": 8,
   "id": "a0918514-62ff-4534-8cd6-3fd4369a6e29",
   "metadata": {},
   "outputs": [
    {
     "name": "stdout",
     "output_type": "stream",
     "text": [
      "Anomaly detection completed.\n"
     ]
    },
    {
     "data": {
      "text/plain": [
       "anomaly_flag\n",
       "Normal       475\n",
       "Anomalous     25\n",
       "Name: count, dtype: int64"
      ]
     },
     "execution_count": 8,
     "metadata": {},
     "output_type": "execute_result"
    }
   ],
   "source": [
    "from sklearn.ensemble import IsolationForest\n",
    "\n",
    "# Initialize Isolation Forest\n",
    "model = IsolationForest(n_estimators=100, contamination=0.05, random_state=42)\n",
    "\n",
    "# Train the model\n",
    "model.fit(df_processed)\n",
    "\n",
    "# Predict anomalies\n",
    "df_txns['anomaly_score'] = model.decision_function(df_processed)\n",
    "df_txns['anomaly_flag'] = model.predict(df_processed)  # -1 = anomaly, 1 = normal\n",
    "df_txns['anomaly_flag'] = df_txns['anomaly_flag'].map({1: 'Normal', -1: 'Anomalous'})\n",
    "\n",
    "# Show summary\n",
    "print(\"Anomaly detection completed.\")\n",
    "df_txns['anomaly_flag'].value_counts()"
   ]
  },
  {
   "cell_type": "markdown",
   "id": "c655d604-5433-43bc-97b0-c4fb37827b46",
   "metadata": {},
   "source": [
    "## Step 4: Generate Alert Metadata and Export to Excel\n",
    "\n",
    "We now generate STR-style metadata for each anomalous transaction flagged by the Isolation Forest model. Each alert includes:\n",
    "- Alert ID\n",
    "- Risk Signal narrative\n",
    "- Red Flags\n",
    "- STR Status\n",
    "- Date/Time\n",
    "- Channel\n",
    "- Compliance Reference\n",
    "The output is exported to `ml_alerts_output.xlsx` for audit and regulatory use."
   ]
  },
  {
   "cell_type": "code",
   "execution_count": 11,
   "id": "c0375fa5-d0d8-4e99-b119-3c9ee26a6e08",
   "metadata": {},
   "outputs": [
    {
     "name": "stdout",
     "output_type": "stream",
     "text": [
      "ML-based alert report exported to 'ml_alerts_output.xlsx'\n"
     ]
    }
   ],
   "source": [
    "from datetime import datetime\n",
    "\n",
    "# Filter only anomalies\n",
    "df_alerts = df_txns[df_txns['anomaly_flag'] == 'Anomalous'].copy()\n",
    "df_alerts.reset_index(drop=True, inplace=True)\n",
    "\n",
    "# Generate alert metadata\n",
    "df_alerts['alert_id'] = ['ALERT_ML_' + str(i+1).zfill(4) for i in range(len(df_alerts))]\n",
    "df_alerts['rule_trigger'] = 'ML - Isolation Forest'\n",
    "df_alerts['rule_severity'] = 'High'\n",
    "df_alerts['risk_score'] = np.random.randint(75, 95, len(df_alerts))  # Randomized for now\n",
    "\n",
    "# Red flag narrative (can be smarter in V3)\n",
    "df_alerts['red_flags'] = 'Unusual transaction pattern detected via ML anomaly detection'\n",
    "\n",
    "# Articulated narrative\n",
    "df_alerts['transaction_articulation'] = (\n",
    "    'Transaction flagged by ML model as anomalous based on behavior patterns, '\n",
    "    'customer risk profile, and transaction attributes.'\n",
    ")\n",
    "\n",
    "# Compliance references\n",
    "df_alerts['compliance_reference'] = 'FATF Rec 20, Basel Principle 3, BaFin Anomaly Risk'\n",
    "\n",
    "# STR Status\n",
    "df_alerts['str_status'] = 'STR_TO_BE_FILED'\n",
    "\n",
    "# Timestamp\n",
    "df_alerts['detection_timestamp'] = datetime.now().strftime('%Y-%m-%d %H:%M:%S')\n",
    "\n",
    "# Final selected columns for export\n",
    "export_columns = [\n",
    "    'alert_id', 'transaction_id', 'customer_id', 'amount', 'transaction_type',\n",
    "    'location_country', 'channel', 'time_of_day', 'txn_frequency_30d',\n",
    "    'account_age_days', 'customer_risk_band', 'risk_score', 'rule_trigger',\n",
    "    'rule_severity', 'anomaly_score', 'red_flags', 'transaction_articulation',\n",
    "    'compliance_reference', 'str_status', 'detection_timestamp'\n",
    "]\n",
    "\n",
    "df_alerts_final = df_alerts[export_columns]\n",
    "\n",
    "# Export to Excel\n",
    "df_alerts_final.to_excel(\"ml_alerts_output.xlsx\", index=False)\n",
    "print(\"ML-based alert report exported to 'ml_alerts_output.xlsx'\")"
   ]
  },
  {
   "cell_type": "markdown",
   "id": "2e7931f3-cd53-4d49-9f49-fbf47bcd2f41",
   "metadata": {},
   "source": [
    "## Summary: AML_STR_Detector_ML_V2 – Isolation Forest-Based Anomaly Detection\r\n",
    "\r\n",
    "This module uses unsupervised machine learning to detect suspicious financial transactions without predefined rules. The key steps are:\r\n",
    "\r\n",
    "1. **Synthetic Data Generation**  \r\n",
    "   Created 500 synthetic transactions with attributes like amount, channel, risk band, and transaction type.\r\n",
    "\r\n",
    "2. **Data Preprocessing**  \r\n",
    "   Encoded categorical variables and removed identifiers to prepare the data for model training.\r\n",
    "\r\n",
    "3. **Model Training (Isolation Forest)**  \r\n",
    "   Trained the model to learn normal behavior patterns and detect anomalies based on rarity and isolation.\r\n",
    "\r\n",
    "4. **Anomaly Detection**  \r\n",
    "   Flagged 25 transactions (5%) as anomalous — potentially suspicious — based on model scoring.\r\n",
    "\r\n",
    "5. **Alert Generation**  \r\n",
    "   Created structured alert metadata including:\r\n",
    "   - Alert ID, Red Flags, Risk Score\r\n",
    "   - Transaction Articulation\r\n",
    "   - Compliance References (FATF, Basel, BaFin)\r\n",
    "   - STR Filing Status and Timestamp\r\n",
    "\r\n",
    "6. **Excel Export**  \r\n",
    "   Final alerts exported to `ml_alerts_output.xlsx` for audit and compliance review.\r\n",
    "\r\n",
    "This system forms the ML-based upgrade to the rule-based engine inAML_STR_Detector_Lite_V1.\r\n"
   ]
  }
 ],
 "metadata": {
  "kernelspec": {
   "display_name": "Python 3 (ipykernel)",
   "language": "python",
   "name": "python3"
  },
  "language_info": {
   "codemirror_mode": {
    "name": "ipython",
    "version": 3
   },
   "file_extension": ".py",
   "mimetype": "text/x-python",
   "name": "python",
   "nbconvert_exporter": "python",
   "pygments_lexer": "ipython3",
   "version": "3.12.4"
  }
 },
 "nbformat": 4,
 "nbformat_minor": 5
}
