{
 "cells": [
  {
   "cell_type": "markdown",
   "id": "18e8cecf-069f-4076-98aa-e490643f3398",
   "metadata": {},
   "source": [
    "# AML_STR_Detector_Lite_V1 🇩🇪  \r\n",
    "*Rule-Based Suspicious Transaction Detection Engine with FATF, Basel & BaFin Alignment*\r\n"
   ]
  },
  {
   "cell_type": "markdown",
   "id": "8faba86b-c601-485e-bbed-64c53b51f5b7",
   "metadata": {},
   "source": [
    "# Step 2: Import Dependencies"
   ]
  },
  {
   "cell_type": "code",
   "execution_count": 4,
   "id": "6dbe79eb-8d8c-4ff0-a661-8a8f553dc3db",
   "metadata": {},
   "outputs": [],
   "source": [
    "import json\n",
    "from datetime import datetime"
   ]
  },
  {
   "cell_type": "markdown",
   "id": "dfdb78f1-4e81-4a5b-8378-8c2a34d7239d",
   "metadata": {},
   "source": [
    "# Step 3: Customer Dataset"
   ]
  },
  {
   "cell_type": "code",
   "execution_count": 6,
   "id": "bbfbab50-dfd0-415c-8e89-7303c13bdd42",
   "metadata": {},
   "outputs": [],
   "source": [
    "customers = [\n",
    "    {\n",
    "        \"customer_id\": \"CUST001\",\n",
    "        \"name\": \"Rahul Kumar\",\n",
    "        \"financial_inclusion_flag\": True,\n",
    "        \"risk_band\": \"Low\",\n",
    "        \"onboarded_via\": \"PM Jan Dhan Yojana\",\n",
    "        \"transactions\": [\n",
    "            {\"txn_id\": \"TXN101\", \"rule_triggered\": \"RDT\", \"base_weight\": 30, \"channel\": \"IMPS\"},\n",
    "            {\"txn_id\": \"TXN102\", \"rule_triggered\": \"MCPT\", \"base_weight\": 40, \"channel\": \"IMPS\"}\n",
    "        ]\n",
    "    },\n",
    "    {\n",
    "        \"customer_id\": \"CUST002\",\n",
    "        \"name\": \"Naveen Rao\",\n",
    "        \"financial_inclusion_flag\": False,\n",
    "        \"risk_band\": \"Medium\",\n",
    "        \"onboarded_via\": \"Standard Onboarding\",\n",
    "        \"transactions\": [\n",
    "            {\"txn_id\": \"TXN201\", \"rule_triggered\": \"SMF\", \"base_weight\": 75, \"channel\": \"SWIFT\"}\n",
    "        ]\n",
    "    },\n",
    "    {\n",
    "        \"customer_id\": \"CUST003\",\n",
    "        \"name\": \"Fatima Zehra\",\n",
    "        \"financial_inclusion_flag\": False,\n",
    "        \"risk_band\": \"High\",\n",
    "        \"onboarded_via\": \"Offshore Entity\",\n",
    "        \"transactions\": [\n",
    "            {\"txn_id\": \"TXN301\", \"rule_triggered\": \"MCPT\", \"base_weight\": 45, \"channel\": \"NEFT\"},\n",
    "            {\"txn_id\": \"TXN302\", \"rule_triggered\": \"SMF\", \"base_weight\": 70, \"channel\": \"NEFT\"}\n",
    "        ]\n",
    "    },\n",
    "    {\n",
    "        \"customer_id\": \"CUST004\",\n",
    "        \"name\": \"Michael Hans\",\n",
    "        \"financial_inclusion_flag\": False,\n",
    "        \"risk_band\": \"Medium\",\n",
    "        \"onboarded_via\": \"Digital KYC\",\n",
    "        \"transactions\": [\n",
    "            {\"txn_id\": \"TXN401\", \"rule_triggered\": \"RDT\", \"base_weight\": 30, \"channel\": \"RTGS\"}\n",
    "        ]\n",
    "    }\n",
    "]"
   ]
  },
  {
   "cell_type": "markdown",
   "id": "9aac5201-742a-4a65-a774-50128e596190",
   "metadata": {},
   "source": [
    "# Step 4: Rule Weights, Severities, Red Flags, BaFin Tags"
   ]
  },
  {
   "cell_type": "code",
   "execution_count": 8,
   "id": "665c7a70-df05-41d0-853e-9b7b341b96e7",
   "metadata": {},
   "outputs": [],
   "source": [
    "rule_weights = {\n",
    "    \"RDT\": 30,\n",
    "    \"MCPT\": 40,\n",
    "    \"SMF\": 75\n",
    "}\n",
    "\n",
    "rule_severity = {\n",
    "    \"RDT\": \"Low\",\n",
    "    \"MCPT\": \"Medium\",\n",
    "    \"SMF\": \"High\"\n",
    "}\n",
    "\n",
    "red_flag_lookup = {\n",
    "    \"RDT\": \"Recurring round-figure transactions\",\n",
    "    \"MCPT\": \"Mismatch between transaction pattern and customer profile\",\n",
    "    \"SMF\": \"Structuring detected via fragmented transactions\"\n",
    "}\n",
    "\n",
    "bafin_risk_lookup = {\n",
    "    \"RDT\": \"Value-based anomaly\",\n",
    "    \"MCPT\": \"Risk-profile deviation\",\n",
    "    \"SMF\": \"Fragmentation of funds\"\n",
    "}"
   ]
  },
  {
   "cell_type": "markdown",
   "id": "33270f1e-82b6-4b07-ad20-f87c766c36ba",
   "metadata": {},
   "source": [
    "# Step 5: Risk Score Adjustment (based on Financial Inclusion flag)"
   ]
  },
  {
   "cell_type": "code",
   "execution_count": 10,
   "id": "f8a30a63-0271-486a-aee9-89da39730cdb",
   "metadata": {},
   "outputs": [],
   "source": [
    "def get_adjusted_weight(rule, fi_flag, base_weight):\n",
    "    if fi_flag and rule in [\"RDT\", \"MCPT\"]:\n",
    "        return base_weight * 0.5  # More lenient on Financial Inclusion customers\n",
    "    return base_weight"
   ]
  },
  {
   "cell_type": "markdown",
   "id": "99a5ab09-faad-4205-b146-e2dbd65356f8",
   "metadata": {},
   "source": [
    "# Step 6: Alert Classification"
   ]
  },
  {
   "cell_type": "code",
   "execution_count": 12,
   "id": "212a1c50-8b53-4b72-b703-c267e3ae7a7b",
   "metadata": {},
   "outputs": [],
   "source": [
    "def classify_alert(score, fi_flag):\n",
    "    if fi_flag and score < 50:\n",
    "        return \"Soft Alert - Proportionate Review\"\n",
    "    elif score >= 80:\n",
    "        return \"Hard Alert - Escalation\"\n",
    "    else:\n",
    "        return \"Moderate Alert - Queue for L1 Analyst\""
   ]
  },
  {
   "cell_type": "markdown",
   "id": "25851566-0416-4dad-b3bb-bc51d2336f49",
   "metadata": {},
   "source": [
    "# Step 7: STR Narrative Generator (Transaction Articulation)"
   ]
  },
  {
   "cell_type": "code",
   "execution_count": 14,
   "id": "fe7e4847-6d69-4857-a2a6-086a570ab418",
   "metadata": {},
   "outputs": [],
   "source": [
    "def generate_articulation(name, triggered_rules, channel, risk_band):\n",
    "    rules_str = \", \".join(triggered_rules)\n",
    "    return (f\"Customer '{name}' triggered rules: {rules_str} via {channel}. \"\n",
    "            f\"Behavior inconsistent with risk profile '{risk_band}'.\")"
   ]
  },
  {
   "cell_type": "markdown",
   "id": "0c2905c1-1170-47ec-9d6e-b8cfce62e1cd",
   "metadata": {},
   "source": [
    "# Step 8: STR Alert Builder Function"
   ]
  },
  {
   "cell_type": "code",
   "execution_count": 16,
   "id": "ba3fe945-51fd-4f77-abc5-2b93cea5f12c",
   "metadata": {},
   "outputs": [],
   "source": [
    "def build_str_alert(customer):\n",
    "    triggered_rules = [txn[\"rule_triggered\"] for txn in customer[\"transactions\"]]\n",
    "    channel = customer[\"transactions\"][0][\"channel\"]\n",
    "    \n",
    "    total_score = sum(\n",
    "        get_adjusted_weight(txn[\"rule_triggered\"], customer[\"financial_inclusion_flag\"], txn[\"base_weight\"])\n",
    "        for txn in customer[\"transactions\"]\n",
    "    )\n",
    "    \n",
    "    return {\n",
    "        \"customer_profile\": {\n",
    "            \"customer_id\": customer[\"customer_id\"],\n",
    "            \"name\": customer[\"name\"],\n",
    "            \"financial_inclusion_flag\": customer[\"financial_inclusion_flag\"],\n",
    "            \"risk_band\": customer[\"risk_band\"],\n",
    "            \"onboarded_via\": customer[\"onboarded_via\"]\n",
    "        },\n",
    "        \"trigger_rules\": triggered_rules,\n",
    "        \"rule_severity\": max(\n",
    "            [rule_severity[r] for r in triggered_rules],\n",
    "            key=lambda sev: [\"Low\", \"Medium\", \"High\"].index(sev)\n",
    "        ),\n",
    "        \"risk_score\": round(total_score, 2),\n",
    "        \"alert_classification\": classify_alert(total_score, customer[\"financial_inclusion_flag\"]),\n",
    "        \"red_flags\": [red_flag_lookup[r] for r in triggered_rules],\n",
    "        \"bafin_risk_category\": [bafin_risk_lookup[r] for r in triggered_rules],\n",
    "        \"transaction_articulation\": generate_articulation(\n",
    "            customer[\"name\"], triggered_rules, channel, customer[\"risk_band\"]\n",
    "        ),\n",
    "        \"compliance_references\": {\n",
    "            \"FATF\": [\"Rec 10\", \"Rec 20\"],\n",
    "            \"Basel\": \"Principle 3 - Transaction Monitoring\",\n",
    "            \"BaFin\": \"Section 6 GwG – Risk Management\"\n",
    "        },\n",
    "        \"str_status\": (\n",
    "            \"Filed\" if total_score >= 80 else\n",
    "            \"Queued for Filing\" if total_score >= 50 else\n",
    "            \"Deferred\"\n",
    "        ),\n",
    "        \"timestamp\": datetime.now().isoformat(),\n",
    "        \"channel\": channel\n",
    "    }"
   ]
  },
  {
   "cell_type": "markdown",
   "id": "159f05e4-ee8d-49f6-88ca-306af390b6bd",
   "metadata": {},
   "source": [
    "# Step 9: Generate STR Alerts for All Customers"
   ]
  },
  {
   "cell_type": "code",
   "execution_count": 18,
   "id": "990525de-19f0-4dc8-9ae3-2d6327cde960",
   "metadata": {},
   "outputs": [
    {
     "name": "stdout",
     "output_type": "stream",
     "text": [
      "[{'alert_classification': 'Soft Alert - Proportionate Review',\n",
      "  'bafin_risk_category': ['Value-based anomaly', 'Risk-profile deviation'],\n",
      "  'channel': 'IMPS',\n",
      "  'compliance_references': {'BaFin': 'Section 6 GwG – Risk Management',\n",
      "                            'Basel': 'Principle 3 - Transaction Monitoring',\n",
      "                            'FATF': ['Rec 10', 'Rec 20']},\n",
      "  'customer_profile': {'customer_id': 'CUST001',\n",
      "                       'financial_inclusion_flag': True,\n",
      "                       'name': 'Rahul Kumar',\n",
      "                       'onboarded_via': 'PM Jan Dhan Yojana',\n",
      "                       'risk_band': 'Low'},\n",
      "  'red_flags': ['Recurring round-figure transactions',\n",
      "                'Mismatch between transaction pattern and customer profile'],\n",
      "  'risk_score': 35.0,\n",
      "  'rule_severity': 'Medium',\n",
      "  'str_status': 'Deferred',\n",
      "  'timestamp': '2025-07-01T16:38:00.158767',\n",
      "  'transaction_articulation': \"Customer 'Rahul Kumar' triggered rules: RDT, \"\n",
      "                              'MCPT via IMPS. Behavior inconsistent with risk '\n",
      "                              \"profile 'Low'.\",\n",
      "  'trigger_rules': ['RDT', 'MCPT']},\n",
      " {'alert_classification': 'Moderate Alert - Queue for L1 Analyst',\n",
      "  'bafin_risk_category': ['Fragmentation of funds'],\n",
      "  'channel': 'SWIFT',\n",
      "  'compliance_references': {'BaFin': 'Section 6 GwG – Risk Management',\n",
      "                            'Basel': 'Principle 3 - Transaction Monitoring',\n",
      "                            'FATF': ['Rec 10', 'Rec 20']},\n",
      "  'customer_profile': {'customer_id': 'CUST002',\n",
      "                       'financial_inclusion_flag': False,\n",
      "                       'name': 'Naveen Rao',\n",
      "                       'onboarded_via': 'Standard Onboarding',\n",
      "                       'risk_band': 'Medium'},\n",
      "  'red_flags': ['Structuring detected via fragmented transactions'],\n",
      "  'risk_score': 75,\n",
      "  'rule_severity': 'High',\n",
      "  'str_status': 'Queued for Filing',\n",
      "  'timestamp': '2025-07-01T16:38:00.158767',\n",
      "  'transaction_articulation': \"Customer 'Naveen Rao' triggered rules: SMF via \"\n",
      "                              'SWIFT. Behavior inconsistent with risk profile '\n",
      "                              \"'Medium'.\",\n",
      "  'trigger_rules': ['SMF']},\n",
      " {'alert_classification': 'Hard Alert - Escalation',\n",
      "  'bafin_risk_category': ['Risk-profile deviation', 'Fragmentation of funds'],\n",
      "  'channel': 'NEFT',\n",
      "  'compliance_references': {'BaFin': 'Section 6 GwG – Risk Management',\n",
      "                            'Basel': 'Principle 3 - Transaction Monitoring',\n",
      "                            'FATF': ['Rec 10', 'Rec 20']},\n",
      "  'customer_profile': {'customer_id': 'CUST003',\n",
      "                       'financial_inclusion_flag': False,\n",
      "                       'name': 'Fatima Zehra',\n",
      "                       'onboarded_via': 'Offshore Entity',\n",
      "                       'risk_band': 'High'},\n",
      "  'red_flags': ['Mismatch between transaction pattern and customer profile',\n",
      "                'Structuring detected via fragmented transactions'],\n",
      "  'risk_score': 115,\n",
      "  'rule_severity': 'High',\n",
      "  'str_status': 'Filed',\n",
      "  'timestamp': '2025-07-01T16:38:00.158767',\n",
      "  'transaction_articulation': \"Customer 'Fatima Zehra' triggered rules: MCPT, \"\n",
      "                              'SMF via NEFT. Behavior inconsistent with risk '\n",
      "                              \"profile 'High'.\",\n",
      "  'trigger_rules': ['MCPT', 'SMF']},\n",
      " {'alert_classification': 'Moderate Alert - Queue for L1 Analyst',\n",
      "  'bafin_risk_category': ['Value-based anomaly'],\n",
      "  'channel': 'RTGS',\n",
      "  'compliance_references': {'BaFin': 'Section 6 GwG – Risk Management',\n",
      "                            'Basel': 'Principle 3 - Transaction Monitoring',\n",
      "                            'FATF': ['Rec 10', 'Rec 20']},\n",
      "  'customer_profile': {'customer_id': 'CUST004',\n",
      "                       'financial_inclusion_flag': False,\n",
      "                       'name': 'Michael Hans',\n",
      "                       'onboarded_via': 'Digital KYC',\n",
      "                       'risk_band': 'Medium'},\n",
      "  'red_flags': ['Recurring round-figure transactions'],\n",
      "  'risk_score': 30,\n",
      "  'rule_severity': 'Low',\n",
      "  'str_status': 'Deferred',\n",
      "  'timestamp': '2025-07-01T16:38:00.158767',\n",
      "  'transaction_articulation': \"Customer 'Michael Hans' triggered rules: RDT \"\n",
      "                              'via RTGS. Behavior inconsistent with risk '\n",
      "                              \"profile 'Medium'.\",\n",
      "  'trigger_rules': ['RDT']}]\n"
     ]
    }
   ],
   "source": [
    "alerts = []\n",
    "\n",
    "for customer in customers:\n",
    "    alert = build_str_alert(customer)\n",
    "    alerts.append(alert)\n",
    "\n",
    "# Pretty print the results\n",
    "import pprint\n",
    "pprint.pprint(alerts)"
   ]
  },
  {
   "cell_type": "markdown",
   "id": "9dbaa762-bb8e-4692-8192-f19f3b4091af",
   "metadata": {},
   "source": [
    "# Step 10: Export Alerts to JSON"
   ]
  },
  {
   "cell_type": "code",
   "execution_count": 20,
   "id": "0b7cf1a9-b221-4c54-97b2-a4cb0814552d",
   "metadata": {},
   "outputs": [
    {
     "name": "stdout",
     "output_type": "stream",
     "text": [
      "STR alerts exported to alerts_output.json\n"
     ]
    }
   ],
   "source": [
    "with open(\"alerts_output.json\", \"w\") as f:\n",
    "    json.dump(alerts, f, indent=2)\n",
    "\n",
    "print(\"STR alerts exported to alerts_output.json\")"
   ]
  },
  {
   "cell_type": "markdown",
   "id": "b80e7015-396b-4006-a02c-051d5af4ab0b",
   "metadata": {},
   "source": [
    "# Step 10: Export Alerts to Excel"
   ]
  },
  {
   "cell_type": "code",
   "execution_count": 35,
   "id": "0b650794-01a3-4e6e-8d07-1913ce7eeb47",
   "metadata": {},
   "outputs": [
    {
     "name": "stdout",
     "output_type": "stream",
     "text": [
      "STR alerts exported successfully to 'alerts_output.xlsx'\n"
     ]
    }
   ],
   "source": [
    "import pandas as pd\n",
    "\n",
    "# Flatten the alert dictionary into tabular format for Excel\n",
    "flat_alerts = []\n",
    "\n",
    "for alert in alerts:\n",
    "    flat_alerts.append({\n",
    "        \"Customer ID\": alert[\"customer_profile\"][\"customer_id\"],\n",
    "        \"Customer Name\": alert[\"customer_profile\"][\"name\"],\n",
    "        \"Risk Band\": alert[\"customer_profile\"][\"risk_band\"],\n",
    "        \"Financial Inclusion\": alert[\"customer_profile\"][\"financial_inclusion_flag\"],\n",
    "        \"Onboarded Via\": alert[\"customer_profile\"][\"onboarded_via\"],\n",
    "        \"Rules Triggered\": \", \".join(alert[\"trigger_rules\"]),\n",
    "        \"Rule Severity\": alert[\"rule_severity\"],\n",
    "        \"Risk Score\": alert[\"risk_score\"],\n",
    "        \"Alert Classification\": alert[\"alert_classification\"],\n",
    "        \"Red Flags\": \", \".join(alert[\"red_flags\"]),\n",
    "        \"BaFin Risk Category\": \", \".join(alert[\"bafin_risk_category\"]),\n",
    "        \"Narrative\": alert[\"transaction_articulation\"],\n",
    "        \"Compliance Reference - FATF\": \", \".join(alert[\"compliance_references\"][\"FATF\"]),\n",
    "        \"Compliance Reference - Basel\": alert[\"compliance_references\"][\"Basel\"],\n",
    "        \"Compliance Reference - BaFin\": alert[\"compliance_references\"][\"BaFin\"],\n",
    "        \"STR Status\": alert[\"str_status\"],\n",
    "        \"Channel\": alert[\"channel\"],\n",
    "        \"Timestamp\": alert[\"timestamp\"]\n",
    "    })\n",
    "\n",
    "# Create DataFrame\n",
    "df_alerts = pd.DataFrame(flat_alerts)\n",
    "\n",
    "# Export to Excel\n",
    "df_alerts.to_excel(\"alerts_output.xlsx\", index=False)\n",
    "\n",
    "print(\"STR alerts exported successfully to 'alerts_output.xlsx'\")"
   ]
  },
  {
   "cell_type": "markdown",
   "id": "10621904-9fd3-4160-ab3f-6e5180d37641",
   "metadata": {},
   "source": [
    "## AML_STR_Detector_Lite_V1 Summary\r\n",
    "\r\n",
    "This notebook presents a compact, rule-based Suspicious Transaction Reporting (STR) engine with regulatory alignment to FATF, Basel Principles, and BaFin (Germany's financial regulator). It includes:\r\n",
    "\r\n",
    "### Features:\r\n",
    "- Rule-based AML detection using RDT (Round Dollar Transactions), MCPT (Mismatched Customer Profile & Transaction Type), and SMF (Structuring)\r\n",
    "- Risk score adjustment based on financial inclusion flags to ensure proportionate surveillance\r\n",
    "- Alert classification logic that categorizes alerts into:\r\n",
    "  - Soft Alert – Proportionate Review\r\n",
    "  - Moderate Alert – Queue for L1 Analyst\r\n",
    "  - Hard Alert – Escalation\r\n",
    "\r\n",
    "### Output Fields:\r\n",
    "- Customer Profile\r\n",
    "- Triggered Rules and Corresponding Severities\r\n",
    "- Adjusted Risk Score\r\n",
    "- Alert Classification Outcome\r\n",
    "- Identified Red Flags (Behavioral Indicators)\r\n",
    "- BaFin Risk Categories\r\n",
    "- Compliance References:\r\n",
    "  - FATF Recommendations (e.g., Rec 10, Rec 20)\r\n",
    "  - Basel Principle 3 – Transaction Monitoring\r\n",
    "  - BaFin: Section 6 GwG – Risk Management\r\n",
    "- Narrative Summary of Transaction Behavior (Transaction Articulation)\r\n",
    "- STR Filing Status (Filed, Queued, or Deferred)\r\n",
    "- Timestamp of Alert Generation\r\n",
    "- Channel through which the transaction was conducted\r\n",
    "\r\n",
    "This notebook is designed for rapid demonstration, extension, and deployment across financial institutions working toward enhance AML compliance frameworks.\r\n",
    "nnel of Execution\r\n",
    "annel of Execution\r\n"
   ]
  }
 ],
 "metadata": {
  "kernelspec": {
   "display_name": "Python 3 (ipykernel)",
   "language": "python",
   "name": "python3"
  },
  "language_info": {
   "codemirror_mode": {
    "name": "ipython",
    "version": 3
   },
   "file_extension": ".py",
   "mimetype": "text/x-python",
   "name": "python",
   "nbconvert_exporter": "python",
   "pygments_lexer": "ipython3",
   "version": "3.12.4"
  }
 },
 "nbformat": 4,
 "nbformat_minor": 5
}
